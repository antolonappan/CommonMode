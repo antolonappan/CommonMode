{
 "cells": [
  {
   "cell_type": "code",
   "execution_count": 1,
   "id": "99780631",
   "metadata": {},
   "outputs": [],
   "source": [
    "import pandas as pd\n",
    "import matplotlib.pyplot as plt\n",
    "import numpy as np\n",
    "import seaborn as sns\n",
    "from scipy.signal import decimate\n",
    "from scipy.signal import resample\n",
    "from tqdm import tqdm as progress\n",
    "from scipy.interpolate import interp1d,CubicSpline"
   ]
  },
  {
   "cell_type": "code",
   "execution_count": 2,
   "id": "769d166c",
   "metadata": {},
   "outputs": [],
   "source": [
    "df = pd.read_pickle('tod.pkl')"
   ]
  },
  {
   "cell_type": "code",
   "execution_count": 137,
   "id": "0cf5f436",
   "metadata": {},
   "outputs": [],
   "source": [
    "class CM:\n",
    "    \n",
    "    def __init__(self,df,dfreq):\n",
    "        self.bolo_time = df['bolotime']*3600.*24\n",
    "        self.df_tod = df.loc[:, df.columns!='bolotime']#self.detrend_df(df.loc[:, df.columns!='bolotime'])\n",
    "        self.bololist = list(self.df_tod.columns)\n",
    "        self.dfreq = dfreq\n",
    "        self.n = self.search_n\n",
    "        self.bolo_time_ds = self.downsample_arr(self.bolo_time)\n",
    "        \n",
    "        ini_sr = self.sample_rate(self.bolo_time)\n",
    "        final_sr = self.sample_rate(self.bolo_time_ds)\n",
    "        print(f\"Sampling rate will be downsampled from {ini_sr:.2f} to {final_sr:.2f}\")\n",
    "        \n",
    "    @property\n",
    "    def search_n(self):\n",
    "        \"\"\"\n",
    "        n = length of intial array/ downsampling factor\n",
    "        downsampling factor = initial sampling rate/ desired sampling rate\n",
    "        \n",
    "        Above 'n' is just a rough estimate. To get a more precise 'n'\n",
    "        this function minimize the difference between the desired sampling\n",
    "        rate and the one which is calcualted\n",
    "        \n",
    "        TODO: this minimize the values in one direction, which is not good.\n",
    "        \"\"\"\n",
    "        n0 = int(len(self.bolo_time)/(self.sample_rate(self.bolo_time)/self.dfreq))\n",
    "        init_sr = self.sample_rate(self.bolo_time)\n",
    "        n0_sr = self.sample_rate(self.downsample_arr(self.bolo_time,n0))\n",
    "        assert (n0_sr- self.dfreq) > 0\n",
    "        dif = np.abs(self.dfreq - n0_sr)\n",
    "        i = 1\n",
    "        while (dif > 0.01) and (i < 1000):\n",
    "            n = n0 - i\n",
    "            present_sr = self.sample_rate(self.downsample_arr(self.bolo_time,n))\n",
    "            future_sr = self.sample_rate(self.downsample_arr(self.bolo_time,n-1))\n",
    "            dif = np.abs(self.dfreq - present_sr)\n",
    "            i+=1\n",
    "            \n",
    "            # This line is to avoid screwing up the overestimation situation\n",
    "            if np.abs(self.dfreq-future_sr) > np.abs(self.dfreq-present_sr):\n",
    "                break\n",
    "        return n\n",
    "\n",
    "        \n",
    "    \n",
    "    @staticmethod\n",
    "    def sample_rate(time):\n",
    "        \"\"\"\n",
    "        Sample rate = 1/dt\n",
    "        \"\"\"\n",
    "        return 1/np.mean(np.diff(time))\n",
    "    \n",
    "    def downsample_arr(self,arr,n=None):\n",
    "        \"\"\"\n",
    "        Downsample a single array\n",
    "        \"\"\"\n",
    "        if n is None:\n",
    "            n = self.n\n",
    "        #return decimate(decimate(arr,2),2)\n",
    "        #return downsample(arr)\n",
    "        return resample(arr,n)\n",
    "    \n",
    "    def detrend_arr(self,arr):\n",
    "        return arr - np.mean(arr)\n",
    "    \n",
    "    def detrend_df(self,df):\n",
    "        progress.pandas(desc='Detrending the TODs')\n",
    "        return df.progress_apply(self.detrend_arr)\n",
    "    \n",
    "    def downsample_df(self,df):\n",
    "        \"\"\"\n",
    "        Downsample a pandas dataframe\n",
    "        \"\"\"\n",
    "        progress.pandas(desc='Downsampling the TODs')\n",
    "        return df.progress_apply(self.downsample_arr)\n",
    "    \n",
    "    def eigendecom(self,cov):\n",
    "        \"\"\"\n",
    "        Cov = V.E.V^T\n",
    "        \"\"\"\n",
    "        E,V = np.linalg.eig(cov)\n",
    "        E[np.isnan(E)] = 0.\n",
    "        idx = np.argsort(-E)\n",
    "        return E[idx], V[:, idx]\n",
    "    \n",
    "    def create_nmodes(self,cov,nmodes,V,signal):\n",
    "        \"\"\"\n",
    "        Common modes\n",
    "        \"\"\"\n",
    "        V_n = V[:, :nmodes]\n",
    "        modes = np.dot(V_n.transpose(), signal)\n",
    "        return V_n, modes\n",
    "    \n",
    "    def cm_subtract(self,nmodes):\n",
    "        \"\"\"\n",
    "        Subtract the common modes after interpolation\n",
    "        \n",
    "        \"\"\"\n",
    "        df_tod_ds = self.downsample_df(self.df_tod)\n",
    "        signal_ds = df_tod_ds.values.T\n",
    "        cov = np.cov(signal_ds)\n",
    "        E,R = self.eigendecom(cov)\n",
    "        R_n,modes = self.create_nmodes(cov,nmodes,R,signal_ds)\n",
    "        \n",
    "        signal_fs = self.df_tod.values.T\n",
    "        signal_sub = np.zeros_like(signal_fs)\n",
    "\n",
    "        for i in progress(range(len(E)),desc=\"Subtracting Common Modes\",unit='detector'):\n",
    "            modes_interp = interp1d(self.bolo_time_ds,np.dot(R_n[i, :], modes).real,fill_value=\"extrapolate\")\n",
    "            #modes_interp = CubicSpline(self.bolo_time_ds,np.dot(R_n[i, :], modes).real,extrapolate='periodic')\n",
    "            signal_sub[i] = signal_fs[i] - modes_interp(self.bolo_time)\n",
    "            \n",
    "        return self.dataframe(signal_sub,self.bololist)\n",
    "    \n",
    "    def cm_subtract_full(self,nmodes):\n",
    "        \"\"\"\n",
    "        Subtract the common modes after interpolation\n",
    "        \n",
    "        \"\"\"\n",
    "        signal_ds = self.df_tod.values.T\n",
    "        cov = np.cov(signal_ds)\n",
    "        E,R = self.eigendecom(cov)\n",
    "        R_n,modes = self.create_nmodes(cov,nmodes,R,signal_ds)\n",
    "        \n",
    "        signal_fs = self.df_tod.values.T\n",
    "        signal_sub = np.zeros_like(signal_fs)\n",
    "\n",
    "        for i in progress(range(len(E)),desc=\"Subtracting Common Modes\",unit='detector'):\n",
    "            \n",
    "            signal_sub[i] = signal_fs[i] - np.dot(R_n[i, :], modes).real\n",
    "            \n",
    "        return self.dataframe(signal_sub,self.bololist)\n",
    "    \n",
    "    def dataframe(self,signal,col):\n",
    "        df = pd.DataFrame(signal.T)\n",
    "        df.columns = col\n",
    "        return df\n",
    "\n",
    "\n",
    "\n",
    "def downsample(x):\n",
    "    x = np.array(x)\n",
    "    \n",
    "    q = 20\n",
    "    o = 0\n",
    "    n = 256 + 1\n",
    "    window = ('kaiser',6)\n",
    "    aafilter = scipy.signal.firwin(n,1.0/q,window=window)\n",
    "\n",
    "    xtype = x.dtype\n",
    "\n",
    "    padding_first = np.ones(n)*x[0]\n",
    "    padding_last = np.ones(n)*x[-1]\n",
    "    u = np.concatenate((padding_first,x,padding_last))\n",
    "    xaa = np.convolve(aafilter,u,mode='same')\n",
    "    xaaclip = xaa[n:-n]\n",
    "    xds = xaaclip[o::q]\n",
    "    return xds"
   ]
  },
  {
   "cell_type": "code",
   "execution_count": 152,
   "id": "0d4cc97a",
   "metadata": {},
   "outputs": [
    {
     "name": "stdout",
     "output_type": "stream",
     "text": [
      "Sampling rate will be downsampled from 152.59 to 84.99\n"
     ]
    }
   ],
   "source": [
    "c = CM(df,85)"
   ]
  },
  {
   "cell_type": "code",
   "execution_count": 155,
   "id": "b433e25e",
   "metadata": {
    "scrolled": false
   },
   "outputs": [
    {
     "name": "stderr",
     "output_type": "stream",
     "text": [
      "Downsampling the TODs: 100%|██████████| 361/361 [00:00<00:00, 1339.00it/s]\n"
     ]
    },
    {
     "data": {
      "text/plain": [
       "<matplotlib.legend.Legend at 0x7f973eec5d60>"
      ]
     },
     "execution_count": 155,
     "metadata": {},
     "output_type": "execute_result"
    },
    {
     "data": {
      "image/png": "[encoded data removed]",
      "text/plain": [
       "<Figure size 576x576 with 1 Axes>"
      ]
     },
     "metadata": {
      "needs_background": "light"
     },
     "output_type": "display_data"
    }
   ],
   "source": [
    "idx = 1\n",
    "rm = 4\n",
    "plt.figure(figsize=(8,8))\n",
    "NUL = plt.psd(c.df_tod[c.bololist[idx]],Fs=152.59,label='before',)\n",
    "NUL = plt.psd(c.downsample_df(c.df_tod)[c.bololist[idx]],Fs=84.9,label='before_ds',)\n",
    "#NUL = plt.psd(c.cm_subtract_full(rm)[c.bololist[idx]],Fs=152,label='after_full')\n",
    "#NUL = plt.psd(c.cm_subtract(rm)[c.bololist[idx]],Fs=152,label='after_partial')\n",
    "plt.xscale('log')\n",
    "plt.legend()"
   ]
  },
  {
   "cell_type": "raw",
   "id": "7588bd8c",
   "metadata": {},
   "source": [
    "import scipy\n"
   ]
  },
  {
   "cell_type": "code",
   "execution_count": 78,
   "id": "91751985",
   "metadata": {},
   "outputs": [
    {
     "data": {
      "text/plain": [
       "(array([], dtype=int64),)"
      ]
     },
     "execution_count": 78,
     "metadata": {},
     "output_type": "execute_result"
    }
   ],
   "source": [
    "np.where(np.diff(downsample(c.bolo_time)) <0)"
   ]
  },
  {
   "cell_type": "code",
   "execution_count": 79,
   "id": "b00e1456",
   "metadata": {},
   "outputs": [
    {
     "data": {
      "text/plain": [
       "38.155995085341004"
      ]
     },
     "execution_count": 79,
     "metadata": {},
     "output_type": "execute_result"
    }
   ],
   "source": [
    "c.sample_rate(downsample(c.bolo_time))"
   ]
  },
  {
   "cell_type": "code",
   "execution_count": 68,
   "id": "5f57d7d6",
   "metadata": {},
   "outputs": [
    {
     "name": "stderr",
     "output_type": "stream",
     "text": [
      "Downsampling the TODs: 100%|██████████| 361/361 [00:00<00:00, 897.56it/s]\n",
      "Subtracting Common Modes:   0%|          | 0/361 [00:00<?, ?detector/s]<ipython-input-54-45529a8ab15a>:109: ComplexWarning: Casting complex values to real discards the imaginary part\n",
      "  signal_sub[i] = signal_fs[i] - modes_interp(self.bolo_time)\n",
      "Subtracting Common Modes: 100%|██████████| 361/361 [00:00<00:00, 2037.54detector/s]\n"
     ]
    },
    {
     "data": {
      "text/plain": [
       "<matplotlib.legend.Legend at 0x7f664530f580>"
      ]
     },
     "execution_count": 68,
     "metadata": {},
     "output_type": "execute_result"
    },
    {
     "data": {
      "image/png": "[encoded data removed]",
      "text/plain": [
       "<Figure size 432x288 with 1 Axes>"
      ]
     },
     "metadata": {
      "needs_background": "light"
     },
     "output_type": "display_data"
    }
   ],
   "source": [
    "to = c.cm_subtract(1)[c.bololist[idx]]\n",
    "plt.plot(c.df_tod[c.bololist[idx]]-np.mean(c.df_tod[c.bololist[idx]]),label='before')\n",
    "plt.plot(to - np.mean(to),label='after')\n",
    "plt.legend()"
   ]
  },
  {
   "cell_type": "code",
   "execution_count": 11,
   "id": "c77dbdd4",
   "metadata": {},
   "outputs": [
    {
     "data": {
      "text/plain": [
       "[<matplotlib.lines.Line2D at 0x7f8395047910>]"
      ]
     },
     "execution_count": 11,
     "metadata": {},
     "output_type": "execute_result"
    },
    {
     "data": {
      "image/png": "[encoded data removed]",
      "text/plain": [
       "<Figure size 432x288 with 1 Axes>"
      ]
     },
     "metadata": {
      "needs_background": "light"
     },
     "output_type": "display_data"
    }
   ],
   "source": [
    "plt.plot(c.bolo_time)"
   ]
  },
  {
   "cell_type": "code",
   "execution_count": 10,
   "id": "2ea00134",
   "metadata": {},
   "outputs": [
    {
     "data": {
      "text/plain": [
       "array([5.12564198e+09, 5.12564197e+09, 5.12564197e+09, 5.12564197e+09,\n",
       "       5.12564197e+09, 5.12564197e+09, 5.12564197e+09, 5.12564197e+09,\n",
       "       5.12564197e+09, 5.12564197e+09, 5.12564197e+09, 5.12564197e+09,\n",
       "       5.12564197e+09, 5.12564197e+09, 5.12564197e+09, 5.12564197e+09,\n",
       "       5.12564198e+09, 5.12564198e+09, 5.12564198e+09, 5.12564198e+09,\n",
       "       5.12564198e+09, 5.12564198e+09, 5.12564198e+09, 5.12564198e+09,\n",
       "       5.12564198e+09, 5.12564198e+09, 5.12564198e+09, 5.12564198e+09,\n",
       "       5.12564198e+09, 5.12564198e+09, 5.12564198e+09, 5.12564198e+09,\n",
       "       5.12564198e+09, 5.12564198e+09, 5.12564198e+09, 5.12564198e+09,\n",
       "       5.12564198e+09, 5.12564198e+09, 5.12564198e+09, 5.12564198e+09,\n",
       "       5.12564198e+09, 5.12564198e+09, 5.12564198e+09, 5.12564198e+09,\n",
       "       5.12564198e+09, 5.12564199e+09, 5.12564199e+09, 5.12564199e+09,\n",
       "       5.12564199e+09, 5.12564199e+09, 5.12564199e+09, 5.12564199e+09,\n",
       "       5.12564199e+09, 5.12564199e+09, 5.12564199e+09, 5.12564199e+09,\n",
       "       5.12564199e+09, 5.12564199e+09, 5.12564199e+09, 5.12564199e+09,\n",
       "       5.12564199e+09, 5.12564199e+09])"
      ]
     },
     "execution_count": 10,
     "metadata": {},
     "output_type": "execute_result"
    }
   ],
   "source": [
    "c.bolo_time_ds"
   ]
  },
  {
   "cell_type": "code",
   "execution_count": null,
   "id": "5bc5e822",
   "metadata": {},
   "outputs": [],
   "source": []
  }
 ],
 "metadata": {
  "kernelspec": {
   "display_name": "Python 3",
   "language": "python",
   "name": "python3"
  },
  "language_info": {
   "codemirror_mode": {
    "name": "ipython",
    "version": 3
   },
   "file_extension": ".py",
   "mimetype": "text/x-python",
   "name": "python",
   "nbconvert_exporter": "python",
   "pygments_lexer": "ipython3",
   "version": "3.8.8"
  }
 },
 "nbformat": 4,
 "nbformat_minor": 5
}
