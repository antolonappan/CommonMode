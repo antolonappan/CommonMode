{
 "cells": [
  {
   "cell_type": "code",
   "execution_count": 1,
   "id": "4cc42ef1",
   "metadata": {},
   "outputs": [],
   "source": [
    "import pandas as pd\n",
    "import matplotlib.pyplot as plt\n",
    "import numpy as np\n",
    "import seaborn as sns"
   ]
  },
  {
   "cell_type": "code",
   "execution_count": 2,
   "id": "746e8afa",
   "metadata": {},
   "outputs": [],
   "source": [
    "df = pd.read_pickle('tod.pkl')"
   ]
  },
  {
   "cell_type": "code",
   "execution_count": 3,
   "id": "a35bdf57",
   "metadata": {},
   "outputs": [],
   "source": [
    "def sample_rate(time):\n",
    "    return 1/np.mean(np.diff(time))\n",
    "\n",
    "def eigendecom(cov):\n",
    "    E,R = np.linalg.eig(cov)\n",
    "    E[np.isnan(E)] = 0.\n",
    "    idx = np.argsort(-E)\n",
    "    return E[idx], R[:, idx]\n",
    "\n",
    "def create_nmodes(cov,nmodes,R,signal):\n",
    "    R_n = R[:, :nmodes]\n",
    "    modes = np.dot(R_n.transpose(), signal)\n",
    "    return R_n, modes\n",
    "\n",
    "def cm_subtract(signal,nmodes,det,ret_df=True):\n",
    "    signal_cm = np.zeros_like(signal)\n",
    "    cov = np.cov(signal)\n",
    "    E,R = eigendecom(cov)\n",
    "    R_n,modes = create_nmodes(cov,nmodes,R,signal)\n",
    "    for i in range(len(E)):\n",
    "        signal_cm[i] = signal[i] - np.dot(R_n[i, :], modes)\n",
    "    \n",
    "    if ret_df:\n",
    "        return dataframe(signal_cm,det)\n",
    "    else:\n",
    "        return signal_cm\n",
    "\n",
    "def dataframe(signal,col):\n",
    "    df = pd.DataFrame(signal.T)\n",
    "    df.columns = col\n",
    "    return df\n",
    "\n",
    "def plot_corr(df):\n",
    "    plt.figure(figsize=(8,8))\n",
    "    sns.heatmap(df.corr(),vmin=-1, vmax=1, center=0,\n",
    "            cmap=sns.diverging_palette(20, 220, n=200),\n",
    "            cbar_kws ={'shrink': .6, 'label': 'Correlation'},\n",
    "            square=True)"
   ]
  },
  {
   "cell_type": "code",
   "execution_count": null,
   "id": "6e6aaceb",
   "metadata": {},
   "outputs": [],
   "source": []
  }
 ],
 "metadata": {
  "kernelspec": {
   "display_name": "Python 3",
   "language": "python",
   "name": "python3"
  },
  "language_info": {
   "codemirror_mode": {
    "name": "ipython",
    "version": 3
   },
   "file_extension": ".py",
   "mimetype": "text/x-python",
   "name": "python",
   "nbconvert_exporter": "python",
   "pygments_lexer": "ipython3",
   "version": "3.8.8"
  }
 },
 "nbformat": 4,
 "nbformat_minor": 5
}
